{
 "cells": [
  {
   "cell_type": "code",
   "execution_count": 50,
   "metadata": {
    "id": "fzfCQrWdfM9k"
   },
   "outputs": [
    {
     "name": "stdin",
     "output_type": "stream",
     "text": [
      "enter a number:  5\n"
     ]
    },
    {
     "name": "stdout",
     "output_type": "stream",
     "text": [
      "120\n"
     ]
    }
   ],
   "source": [
    "# Write a program to find the factorial of a number.\n",
    "def factorial(num):\n",
    "    fact=1\n",
    "    for i in range(2, num+1):\n",
    "        fact= fact*i\n",
    "    return fact\n",
    "num=int(input(\"enter a number: \"))\n",
    "result=factorial(num)\n",
    "print(result)"
   ]
  },
  {
   "cell_type": "code",
   "execution_count": null,
   "metadata": {
    "colab": {
     "base_uri": "https://localhost:8080/"
    },
    "id": "endmQxXPfSQq",
    "outputId": "593c0bd6-8615-4e13-a990-02cc28b320fc"
   },
   "outputs": [
    {
     "name": "stdout",
     "output_type": "stream",
     "text": [
      "yes !  it is palindrome\n"
     ]
    }
   ],
   "source": [
    "# Write a function to determine if a string is a palindrome.\n",
    "def palindrome(str):\n",
    "  if str==str[::-1]:\n",
    "    print(\"yes !  it is palindrome\")\n",
    "  else:\n",
    "    print(\"No ! it is not palindrome\")\n",
    "palindrome(\"hannah\")"
   ]
  },
  {
   "cell_type": "code",
   "execution_count": null,
   "metadata": {
    "colab": {
     "base_uri": "https://localhost:8080/"
    },
    "id": "kVxqaoIcgd6T",
    "outputId": "412d6495-46ab-40db-ba16-f1d14bbfc481"
   },
   "outputs": [
    {
     "name": "stdout",
     "output_type": "stream",
     "text": [
      "yes\n"
     ]
    }
   ],
   "source": [
    "def p(string):\n",
    "  str1=\"\"\n",
    "  for i in range(-1,-len(string)-1,-1):\n",
    "    str1=str1+string[i]\n",
    "  if str1==string:\n",
    "    print(\"yes\")\n",
    "  else:\n",
    "    print(\"no\")\n",
    "p(\"hannah\")\n"
   ]
  },
  {
   "cell_type": "code",
   "execution_count": null,
   "metadata": {
    "colab": {
     "base_uri": "https://localhost:8080/"
    },
    "id": "aWAZ3NQffSVV",
    "outputId": "d2e1bba0-5991-4511-9076-12d857602df5"
   },
   "outputs": [
    {
     "name": "stdout",
     "output_type": "stream",
     "text": [
      "222\n"
     ]
    }
   ],
   "source": [
    "# Write a program to find the largest and smallest numbers in a list.\n",
    "max=0\n",
    "l=[1,44,3,2,5,6,222,43]\n",
    "for i in l:\n",
    "  if i>max:\n",
    "    max=i\n",
    "print(max)"
   ]
  },
  {
   "cell_type": "code",
   "execution_count": null,
   "metadata": {
    "colab": {
     "base_uri": "https://localhost:8080/",
     "height": 35
    },
    "id": "V2hAr3J5fSWr",
    "outputId": "8d9cb946-76b5-46b2-af54-865f9d02aaee"
   },
   "outputs": [
    {
     "data": {
      "application/vnd.google.colaboratory.intrinsic+json": {
       "type": "string"
      },
      "text/plain": [
       "'italam'"
      ]
     },
     "execution_count": 6,
     "metadata": {},
     "output_type": "execute_result"
    }
   ],
   "source": [
    "# Write a function to reverse a string.\n",
    "def reverse(string):\n",
    "  str=\"\"\n",
    "  for i in range(-1,-len(string)-1,-1):\n",
    "    str=str+string[i]\n",
    "  return str\n",
    "reverse(\"malati\")"
   ]
  },
  {
   "cell_type": "code",
   "execution_count": null,
   "metadata": {
    "colab": {
     "base_uri": "https://localhost:8080/",
     "height": 35
    },
    "id": "n1OuVtht_v7g",
    "outputId": "9e37a4b2-0ba3-4f60-a52c-932fb2c05568"
   },
   "outputs": [
    {
     "data": {
      "application/vnd.google.colaboratory.intrinsic+json": {
       "type": "string"
      },
      "text/plain": [
       "'italam'"
      ]
     },
     "execution_count": 14,
     "metadata": {},
     "output_type": "execute_result"
    }
   ],
   "source": [
    "def a(string):\n",
    "  str=\"\"\n",
    "  for i in string[::-1]:\n",
    "    str=str+i\n",
    "  return str\n",
    "a(\"malati\")"
   ]
  },
  {
   "cell_type": "code",
   "execution_count": null,
   "metadata": {
    "colab": {
     "base_uri": "https://localhost:8080/"
    },
    "id": "6R3BFbvlfSaf",
    "outputId": "25182c7e-3203-45d1-d2e4-240d6ca64278"
   },
   "outputs": [
    {
     "data": {
      "text/plain": [
       "4"
      ]
     },
     "execution_count": 17,
     "metadata": {},
     "output_type": "execute_result"
    }
   ],
   "source": [
    "# Write a program to count the number of occurrences of a character in a string.\n",
    "str=\"hey how are you? long time no seen!\"\n",
    "str.count(\"o\")"
   ]
  },
  {
   "cell_type": "code",
   "execution_count": null,
   "metadata": {
    "colab": {
     "base_uri": "https://localhost:8080/"
    },
    "id": "cqr4XRQvA1Xb",
    "outputId": "eb74aa0a-150c-4b2e-9fe4-4275ac54550e"
   },
   "outputs": [
    {
     "data": {
      "text/plain": [
       "6"
      ]
     },
     "execution_count": 18,
     "metadata": {},
     "output_type": "execute_result"
    }
   ],
   "source": [
    "def count(string):\n",
    "  count=0\n",
    "  for i in string:\n",
    "    count=count+1\n",
    "  return count\n",
    "count(\"malati\")"
   ]
  },
  {
   "cell_type": "code",
   "execution_count": null,
   "metadata": {
    "colab": {
     "base_uri": "https://localhost:8080/"
    },
    "id": "r30iTy_sfnuO",
    "outputId": "058f85f4-3be7-4f8d-fef0-4447d7ab7f68"
   },
   "outputs": [
    {
     "name": "stdout",
     "output_type": "stream",
     "text": [
      "prime\n",
      "prime\n",
      "prime\n",
      "prime\n",
      "prime\n",
      "prime\n",
      "prime\n",
      "prime\n",
      "prime\n",
      "prime\n",
      "prime\n"
     ]
    }
   ],
   "source": [
    "# Write a function to check if a number is prime.\n",
    "def prime(num):\n",
    "  if num>1:\n",
    "    for i in range(2,num):\n",
    "      if num%i==0:\n",
    "        print(\"not prime\")\n",
    "        break\n",
    "      else:\n",
    "        print(\"prime\")\n",
    "  else:\n",
    "    print(\"not prime\")\n",
    "prime(13)"
   ]
  },
  {
   "cell_type": "code",
   "execution_count": null,
   "metadata": {
    "colab": {
     "base_uri": "https://localhost:8080/"
    },
    "id": "O34EzLKmB9xN",
    "outputId": "ab7f2b29-c5bb-4a69-c6f8-d6ac8075678d"
   },
   "outputs": [
    {
     "name": "stdout",
     "output_type": "stream",
     "text": [
      "Enter a number: 19\n",
      "19 is a prime number.\n"
     ]
    }
   ],
   "source": [
    "def is_prime(n):\n",
    "    if n <= 1:\n",
    "        return False\n",
    "    for i in range(2, int(n**0.5) + 1):\n",
    "        if n % i == 0:\n",
    "            return False\n",
    "    return True\n",
    "\n",
    "num = int(input(\"Enter a number: \"))\n",
    "if is_prime(num):\n",
    "    print(f\"{num} is a prime number.\")\n",
    "else:\n",
    "    print(f\"{num} is not a prime number.\")"
   ]
  },
  {
   "cell_type": "code",
   "execution_count": null,
   "metadata": {
    "colab": {
     "base_uri": "https://localhost:8080/"
    },
    "id": "0LnswinnfnxI",
    "outputId": "20cc0956-ebeb-4920-aa8d-40e8f57b4320"
   },
   "outputs": [
    {
     "name": "stdout",
     "output_type": "stream",
     "text": [
      "35\n"
     ]
    }
   ],
   "source": [
    "# Write a program to find the sum of all the elements in a list.\n",
    "list=[2,3,4,5,6,7,8]\n",
    "sum=0\n",
    "for i in list:\n",
    "  sum=sum+i\n",
    "print(sum)"
   ]
  },
  {
   "cell_type": "code",
   "execution_count": null,
   "metadata": {
    "colab": {
     "base_uri": "https://localhost:8080/"
    },
    "id": "StghBRXwfn3P",
    "outputId": "4d69f73a-b477-4de5-e515-696f8f37a9ff"
   },
   "outputs": [
    {
     "data": {
      "text/plain": [
       "{1, 2, 3, 4, 5, 9, 67}"
      ]
     },
     "execution_count": 31,
     "metadata": {},
     "output_type": "execute_result"
    }
   ],
   "source": [
    "# Write a function to sort a list of integers in ascending or descending order.\n",
    "list=[3,2,1,4,5,67,2,1,9]\n",
    "list1=set(list)\n",
    "list1"
   ]
  },
  {
   "cell_type": "code",
   "execution_count": null,
   "metadata": {
    "colab": {
     "base_uri": "https://localhost:8080/"
    },
    "id": "52eojlnQEeos",
    "outputId": "9ab45aef-2c5c-4827-a9e4-4af0469fc9d0"
   },
   "outputs": [
    {
     "name": "stdout",
     "output_type": "stream",
     "text": [
      "[1, 1, 2, 2, 3, 4, 5, 9, 67]\n"
     ]
    }
   ],
   "source": [
    "list.sort()\n",
    "print(list)"
   ]
  },
  {
   "cell_type": "code",
   "execution_count": null,
   "metadata": {
    "id": "hBPleGTxfn5b"
   },
   "outputs": [],
   "source": [
    "# Write a program to find the length of the longest common prefix in a list of strings.\n",
    "string=[\"incarnation\",\"organization\",\"colanization\"]\n"
   ]
  },
  {
   "cell_type": "code",
   "execution_count": null,
   "metadata": {
    "colab": {
     "base_uri": "https://localhost:8080/"
    },
    "id": "wf44qTILfxBc",
    "outputId": "4ff901b6-ae9d-45c6-8d90-00dd70b2d386"
   },
   "outputs": [
    {
     "name": "stdout",
     "output_type": "stream",
     "text": [
      "Enter the position of the Fibonacci number to find: 5\n",
      "The 5th Fibonacci number is: 3\n"
     ]
    }
   ],
   "source": [
    "# Write a function to calculate the nth Fibonacci number.\n",
    "def fibonacci(n):\n",
    "    if n <= 0:\n",
    "        return \"Input should be a positive integer.\"\n",
    "    elif n == 1:\n",
    "        return 0\n",
    "    elif n == 2:\n",
    "        return 1\n",
    "    else:\n",
    "        return fibonacci(n-1) + fibonacci(n-2)\n",
    "\n",
    "# Test the function\n",
    "n = int(input(\"Enter the position of the Fibonacci number to find: \"))\n",
    "result = fibonacci(n)\n",
    "print(f\"The {n}th Fibonacci number is: {result}\")\n"
   ]
  },
  {
   "cell_type": "code",
   "execution_count": null,
   "metadata": {
    "colab": {
     "base_uri": "https://localhost:8080/"
    },
    "id": "5TZRjJy-FFYr",
    "outputId": "7e816c29-accb-4ce5-ab20-b2073f3ae80a"
   },
   "outputs": [
    {
     "name": "stdout",
     "output_type": "stream",
     "text": [
      "{2, 3, 4, 5, 6, 7}\n"
     ]
    }
   ],
   "source": [
    "# Write a program to remove duplicates from a list.\n",
    "list=[2,5,6,4,5,3,2,3,4,5,6,7,5,4,3]\n",
    "print(set(list))"
   ]
  },
  {
   "cell_type": "code",
   "execution_count": null,
   "metadata": {
    "colab": {
     "base_uri": "https://localhost:8080/"
    },
    "id": "p0xb2jESIPxr",
    "outputId": "29f561cc-73ed-4c3b-913a-247520dbe9e5"
   },
   "outputs": [
    {
     "data": {
      "text/plain": [
       "120"
      ]
     },
     "execution_count": 40,
     "metadata": {},
     "output_type": "execute_result"
    }
   ],
   "source": [
    "# Write a function to calculate the factorial of a number using recursion.\n",
    "def factorial(n):\n",
    "  if n==1:\n",
    "    return 1\n",
    "  else:\n",
    "    return n*factorial(n-1)\n",
    "factorial(5)"
   ]
  },
  {
   "cell_type": "code",
   "execution_count": null,
   "metadata": {
    "colab": {
     "base_uri": "https://localhost:8080/"
    },
    "id": "_yykj6JCIPzi",
    "outputId": "79a37d45-247a-4068-8e5e-3d56b0a29917"
   },
   "outputs": [
    {
     "name": "stdout",
     "output_type": "stream",
     "text": [
      "yes!\n"
     ]
    }
   ],
   "source": [
    "# Write a program to check if a number is an Armstrong number.\n",
    "def is_armstorng(n):\n",
    "  temp=n\n",
    "  sum=0\n",
    "  num_digit=len(str(n))\n",
    "\n",
    "  while temp>0:\n",
    "    digit=temp%10\n",
    "    sum=sum+digit**num_digit\n",
    "    temp=temp//10\n",
    "\n",
    "  if sum==n:\n",
    "    print(\"yes!\")\n",
    "  else:\n",
    "    print(\"no\")\n",
    "\n",
    "is_armstorng(9474)"
   ]
  },
  {
   "cell_type": "code",
   "execution_count": null,
   "metadata": {
    "colab": {
     "base_uri": "https://localhost:8080/"
    },
    "id": "Fxb2N02Tmtjn",
    "outputId": "47cac475-3f40-4151-ed0c-9068418f5ede"
   },
   "outputs": [
    {
     "name": "stdout",
     "output_type": "stream",
     "text": [
      "enter numebr: 153\n",
      "yes!\n"
     ]
    }
   ],
   "source": [
    "num=input(\"enter numebr: \")\n",
    "list1=list(num)\n",
    "len_num=len(list1)\n",
    "sum=0\n",
    "for i in list1:\n",
    "  sum=sum+int(i)**len_num\n",
    "sum\n",
    "\n",
    "if int(num)==sum :\n",
    "  print(\"yes!\")\n",
    "else:\n",
    "  print(\"no!\")"
   ]
  },
  {
   "cell_type": "code",
   "execution_count": null,
   "metadata": {
    "colab": {
     "base_uri": "https://localhost:8080/"
    },
    "id": "05NoTcICTH7Y",
    "outputId": "169ead41-81c1-42d8-91bd-a87aa56e357a"
   },
   "outputs": [
    {
     "name": "stdout",
     "output_type": "stream",
     "text": [
      "yes! pali\n"
     ]
    }
   ],
   "source": [
    "# Write a function to check if a string is a valid palindrome ignoring white space and punctuation.\n",
    "\n",
    "def check_pali(string):\n",
    "  if string==string[::-1]:\n",
    "    print(\"yes! pali\")\n",
    "  else:\n",
    "    print(\"no!!!!!!\")\n",
    "check_pali(\"hannah\")"
   ]
  },
  {
   "cell_type": "code",
   "execution_count": null,
   "metadata": {
    "colab": {
     "base_uri": "https://localhost:8080/"
    },
    "id": "4wHC7UxpnIYg",
    "outputId": "476e125b-294e-4d0e-9045-9053c6e4a93d"
   },
   "outputs": [
    {
     "name": "stdout",
     "output_type": "stream",
     "text": [
      "enter a num:1234\n",
      "2.5\n"
     ]
    }
   ],
   "source": [
    "# Write a program to calculate the average of a list of numbers.\n",
    "num=list(input(\"enter a num:\"))\n",
    "sum=0\n",
    "count=0\n",
    "for i in num:\n",
    "  sum=sum+int(i)\n",
    "  count=count+1\n",
    "  avgg=sum/count\n",
    "print(avgg)"
   ]
  },
  {
   "cell_type": "code",
   "execution_count": null,
   "metadata": {
    "colab": {
     "base_uri": "https://localhost:8080/"
    },
    "id": "wZELKoXcnP5u",
    "outputId": "4f7c06dd-525c-4946-8d95-de2442850d59"
   },
   "outputs": [
    {
     "name": "stdout",
     "output_type": "stream",
     "text": [
      "enter your num : 16\n",
      "YES!!!\n"
     ]
    }
   ],
   "source": [
    "# Write a function to check if a given number is a power of two.\n",
    "num=int(input(\"enter your num : \"))\n",
    "def power_two(num):\n",
    "  if num<0:\n",
    "    return False\n",
    "  while num>1:\n",
    "    if num%2==1:\n",
    "      return False\n",
    "    num=num//2\n",
    "  return True\n",
    "if power_two(num):\n",
    "  print(\"YES!!!\")\n",
    "else:\n",
    "  print(\"no! not a power of two\")"
   ]
  },
  {
   "cell_type": "code",
   "execution_count": null,
   "metadata": {
    "colab": {
     "base_uri": "https://localhost:8080/"
    },
    "id": "w3SBSoiVIP1h",
    "outputId": "7f81ac37-d792-45ae-ffce-7fbc3682baf1"
   },
   "outputs": [
    {
     "name": "stdout",
     "output_type": "stream",
     "text": [
      "Enter binary number: 1001\n",
      "Decimal: 9\n"
     ]
    }
   ],
   "source": [
    "# Write a program to convert a binary number to a decimal number.\n",
    "def binary_to_decimal(binary):\n",
    "    decimal = 0\n",
    "    power = 0\n",
    "    for i in binary[::-1]:\n",
    "        if i == '1':\n",
    "            decimal += 2 ** power\n",
    "        power += 1\n",
    "    return decimal\n",
    "\n",
    "# Input from the user\n",
    "binary = input(\"Enter binary number: \")\n",
    "decimal_number = binary_to_decimal(binary)\n",
    "print(\"Decimal:\", decimal_number)"
   ]
  },
  {
   "cell_type": "code",
   "execution_count": null,
   "metadata": {
    "id": "GcWj_tkqIP6C"
   },
   "outputs": [],
   "source": [
    "a=[\"a\",\"e\",\"i\",\"o\",\"u\"]\n",
    "name=\"ashwin deshamukh\"\n",
    "l=list(name)\n",
    "l"
   ]
  },
  {
   "cell_type": "code",
   "execution_count": null,
   "metadata": {
    "colab": {
     "base_uri": "https://localhost:8080/"
    },
    "id": "CbJGL0K-NhML",
    "outputId": "b885a96e-11cd-4cb7-e45e-5650cdbe1ed5"
   },
   "outputs": [
    {
     "name": "stdout",
     "output_type": "stream",
     "text": [
      "shwn dshmkh\n"
     ]
    }
   ],
   "source": [
    "aa=\"\"\n",
    "for i in l:\n",
    "  if i.lower() not in a:\n",
    "    aa=aa+i\n",
    "print(aa)\n"
   ]
  },
  {
   "cell_type": "code",
   "execution_count": null,
   "metadata": {
    "colab": {
     "base_uri": "https://localhost:8080/"
    },
    "id": "hDjqqS0Qm7ZI",
    "outputId": "bfb72d78-7549-40c3-d793-6ac005399bec"
   },
   "outputs": [
    {
     "name": "stdout",
     "output_type": "stream",
     "text": [
      "Enter a: 40\n",
      "Enter b: 12\n",
      "GCD:  4\n"
     ]
    }
   ],
   "source": [
    "# Write a function to find the greatest common divisor (GCD) of a list of numbers.\n",
    "a=int(input(\"Enter a: \"))\n",
    "b=int(input(\"Enter b: \"))\n",
    "def gcd(a,b):\n",
    "  while b!=0:\n",
    "    a,b=b,a%b\n",
    "  return a\n",
    "print(\"GCD: \",gcd(a,b))"
   ]
  },
  {
   "cell_type": "code",
   "execution_count": null,
   "metadata": {
    "id": "Ey9FCublm7cF"
   },
   "outputs": [],
   "source": [
    "# Write a program to find the length of the longest palindrome in a given string.\n",
    "string=input(\"Enter a strings: \")\n",
    "\n"
   ]
  },
  {
   "cell_type": "code",
   "execution_count": 3,
   "metadata": {
    "colab": {
     "base_uri": "https://localhost:8080/"
    },
    "id": "W49Ai-TmAdxP",
    "outputId": "96dab567-44e7-43da-e124-e6e78a1fb665"
   },
   "outputs": [
    {
     "name": "stdout",
     "output_type": "stream",
     "text": [
      "Enter your sentenseThe quick brown fox jumps over a lazy dog\n",
      "True\n"
     ]
    }
   ],
   "source": [
    "# Write a function to check if a given string is a pangram\n",
    "# A pangram is a sentence that contains every letter of the alphabet at least once. To check if a given string is a pangram,\n",
    "# the function needs to verify that each letter of the alphabet (from 'a' to 'z') is present in the string\n",
    "import string\n",
    "def is_pangram(s):\n",
    "  s=s.lower()    # --> convert to lower case\n",
    "  all_alpha=set(s) # --> frind unique characters from the input\n",
    "  alphabet = set(string.ascii_lowercase)     # Create a set of all lowercase English letters\n",
    "  return alphabet.issubset(all_alpha)   # --> check where all the unique charctesr are in alphabet or not\n",
    "\n",
    "\n",
    "s=input(\"Enter your sentense\")\n",
    "result=is_pangram(s)\n",
    "print(result)"
   ]
  },
  {
   "cell_type": "code",
   "execution_count": 12,
   "metadata": {
    "colab": {
     "base_uri": "https://localhost:8080/"
    },
    "id": "5huMaw2OAd0A",
    "outputId": "f2c61e06-24d2-4053-8e72-3bd3afd36a68"
   },
   "outputs": [
    {
     "name": "stdout",
     "output_type": "stream",
     "text": [
      "enter the input: usdhvcudygceugcyetwgftygfwe,jhdbcdgysvcytgcvyyvcyvydvcyyvcygv\n",
      "33\n"
     ]
    }
   ],
   "source": [
    "\n",
    "# Write a program to find the number of characters in the longest word in a string.\n",
    "listt=input(\"enter the input: \").split(\",\")\n",
    "\n",
    "def len_long_word(listt):\n",
    "  len_list=[]\n",
    "  for i in listt:\n",
    "    len_list.append(len(i))\n",
    "\n",
    "  for y in len_list:\n",
    "    max=0\n",
    "    if y > max:\n",
    "      max=y\n",
    "  return y\n",
    "\n",
    "s=len_long_word(listt)\n",
    "print(s)"
   ]
  },
  {
   "cell_type": "code",
   "execution_count": 18,
   "metadata": {
    "colab": {
     "base_uri": "https://localhost:8080/"
    },
    "id": "09pTkw67DfyC",
    "outputId": "5fffcd06-1de0-4728-9b5f-018ed4f8db3d"
   },
   "outputs": [
    {
     "name": "stdout",
     "output_type": "stream",
     "text": [
      "Enter input :2,2,2,2,2,2,4,4,4,4,4,4,4,4\n",
      "['4']\n"
     ]
    }
   ],
   "source": [
    "from collections import Counter\n",
    "# Write a function to find the mode of a list of numbers.\n",
    "listt=input(\"Enter input :\").split(\",\")\n",
    "def mode(listt):\n",
    "  frequency=Counter(listt)   # --> count the frequency pf each number y using counters\n",
    "  max_frq=max(frequency.values()) # --> max frequency\n",
    "  mode = [num for num, freq in frequency.items() if freq == max_frq]\n",
    "  return mode\n",
    "print(mode(listt))"
   ]
  },
  {
   "cell_type": "code",
   "execution_count": 27,
   "metadata": {
    "colab": {
     "base_uri": "https://localhost:8080/"
    },
    "id": "ecnm7sNbIVp5",
    "outputId": "22eaa9ad-9d7c-460f-e723-f3bcd0f85c7e"
   },
   "outputs": [
    {
     "name": "stdout",
     "output_type": "stream",
     "text": [
      "enter start : 2\n",
      "enter end : 10\n",
      "8\n"
     ]
    }
   ],
   "source": [
    "# Write a program to generate a random number between two given numbers.\n",
    "import random\n",
    "from random import randint\n",
    "def random_int(start,end):\n",
    "  return random.randint(start,end)\n",
    "\n",
    "start=int(input(\"enter start : \"))\n",
    "end=int(input(\"enter end : \"))\n",
    "result=random_int(start,end)\n",
    "print(result)"
   ]
  },
  {
   "cell_type": "code",
   "execution_count": null,
   "metadata": {
    "id": "5ej2yYNMJi5l"
   },
   "outputs": [],
   "source": [
    "# Write a function to find the sum of the first n odd numbers.\n",
    "def sum(number):\n",
    "  n=\"\"\n",
    "  if number%2=1:\n",
    "    n=\n"
   ]
  },
  {
   "cell_type": "code",
   "execution_count": 10,
   "metadata": {
    "id": "Jzj41CQmjIiK"
   },
   "outputs": [
    {
     "name": "stdout",
     "output_type": "stream",
     "text": [
      "count of even numbers: 4\n",
      "count of even numbers: 5\n"
     ]
    }
   ],
   "source": [
    "# . Write a program to count the number of even and odd numbers in a list\n",
    "listt=[1,2,3,4,5,4,3,21,8]\n",
    "even=[]\n",
    "odd=[]\n",
    "for i in listt:\n",
    "  if i % 2==0:\n",
    "    even.append(i)\n",
    "  else:\n",
    "    odd.append(i)\n",
    "print(f\"count of even numbers: {len(even)}\")\n",
    "print(f\"count of even numbers: {len(odd)}\")"
   ]
  },
  {
   "cell_type": "code",
   "execution_count": 14,
   "metadata": {
    "id": "LQZjmvsvjtED"
   },
   "outputs": [
    {
     "name": "stdout",
     "output_type": "stream",
     "text": [
      "Max: 777, Min: 2\n"
     ]
    }
   ],
   "source": [
    "# Write a function to find the maximum and minimum elements in a list\n",
    "\n",
    "listt1=[2,3,5,3,1,4,6,777,8,9,6]\n",
    "\n",
    "def max_min(listt1):\n",
    "  max=0\n",
    "  min=listt1[0]\n",
    "\n",
    "  for i in listt1:\n",
    "    if i > max:\n",
    "      max=i\n",
    "  \n",
    "  for y in range(len(listt1)):\n",
    "    if listt1[i]<min:\n",
    "      min=listt1[i]\n",
    "  return f\"Max: {max}, Min: {min}\"\n",
    "   \n",
    "res=max_min(listt1)\n",
    "print(res)"
   ]
  },
  {
   "cell_type": "code",
   "execution_count": 16,
   "metadata": {},
   "outputs": [
    {
     "name": "stdout",
     "output_type": "stream",
     "text": [
      "84\n"
     ]
    }
   ],
   "source": [
    "#  Write a program to calculate the sum of all elements in a list.\n",
    "listt=[12,4,56,7,3,2]\n",
    "sum=0\n",
    "for i in listt:\n",
    "  sum=sum+i\n",
    "print(sum)"
   ]
  },
  {
   "cell_type": "code",
   "execution_count": 22,
   "metadata": {},
   "outputs": [
    {
     "data": {
      "text/plain": [
       "120"
      ]
     },
     "execution_count": 22,
     "metadata": {},
     "output_type": "execute_result"
    }
   ],
   "source": [
    "# Write a function to calculate the factorial of a number.\n",
    "def factorial(n):\n",
    "  if n==1:\n",
    "    return 1\n",
    "  else:\n",
    "    return n*factorial(n-1)\n",
    "factorial(5)"
   ]
  },
  {
   "cell_type": "code",
   "execution_count": 51,
   "metadata": {},
   "outputs": [
    {
     "name": "stdout",
     "output_type": "stream",
     "text": [
      "120\n"
     ]
    }
   ],
   "source": [
    "# Write a program to find the factorial of a number.\n",
    "num=5\n",
    "fact=1\n",
    "for i in range (2,num+1):\n",
    "    fact=fact*i\n",
    "print(fact)\n"
   ]
  },
  {
   "cell_type": "code",
   "execution_count": 53,
   "metadata": {},
   "outputs": [
    {
     "name": "stdout",
     "output_type": "stream",
     "text": [
      "0 1 1 2 3 "
     ]
    }
   ],
   "source": [
    "# Write a program to print the Fibonacci sequence up to a given number.\n",
    "def fibonacci(num):\n",
    "    a,b=0,1\n",
    "    while a<=num:\n",
    "        print(a, end=\" \")\n",
    "        a,b=b,a+b\n",
    "fibonacci(4)"
   ]
  },
  {
   "cell_type": "code",
   "execution_count": 39,
   "metadata": {},
   "outputs": [
    {
     "name": "stdin",
     "output_type": "stream",
     "text": [
      "enter a string:  mam\n"
     ]
    },
    {
     "name": "stdout",
     "output_type": "stream",
     "text": [
      "yess\n"
     ]
    }
   ],
   "source": [
    "# Write a function to check if a given number is a palindrome.\n",
    "string=input(\"enter a string: \")\n",
    "ss=\"\"\n",
    "for i in string[::-1]:\n",
    "    ss=ss+i\n",
    "    if ss==string:\n",
    "        print(\"yess\")"
   ]
  },
  {
   "cell_type": "code",
   "execution_count": 66,
   "metadata": {},
   "outputs": [
    {
     "name": "stdin",
     "output_type": "stream",
     "text": [
      "Enter a number:  1221\n"
     ]
    },
    {
     "name": "stdout",
     "output_type": "stream",
     "text": [
      "yes\n"
     ]
    }
   ],
   "source": [
    "def pali_num(num):\n",
    "    num1=str(num)\n",
    "    if num1[::-1]==num1:\n",
    "        return \"yes\"\n",
    "    else:\n",
    "        return \"nooo\"\n",
    "num=int(input(\"Enter a number: \"))\n",
    "result=pali_num(num)\n",
    "print(result)"
   ]
  },
  {
   "cell_type": "code",
   "execution_count": 72,
   "metadata": {},
   "outputs": [
    {
     "name": "stdout",
     "output_type": "stream",
     "text": [
      "max: 666 and min: 2\n"
     ]
    }
   ],
   "source": [
    "#  Write a program to find the largest and smallest numbers in a list without using the built-in max and min functions.\n",
    "def max_min(listt):\n",
    "    max=0\n",
    "    min=listt[0]\n",
    "    for i in listt:\n",
    "        if i>max:\n",
    "            max=i\n",
    "    for y in range(len(listt)):\n",
    "        if listt[y]< min:\n",
    "            min=listt[y]\n",
    "    return f\"max: {max} and min: {min}\"\n",
    "    \n",
    "listt=[2,3,4,5,666,7]\n",
    "result=max_min(listt)\n",
    "print(result)"
   ]
  },
  {
   "cell_type": "code",
   "execution_count": 76,
   "metadata": {},
   "outputs": [
    {
     "name": "stdin",
     "output_type": "stream",
     "text": [
      "enter a string :  madam\n"
     ]
    },
    {
     "name": "stdout",
     "output_type": "stream",
     "text": [
      "yess\n"
     ]
    }
   ],
   "source": [
    "# Write a function to check if a given string is a palindrome.\n",
    "\n",
    "def pali_str(string):\n",
    "    if string==string[::-1]:\n",
    "        return \"yess\"\n",
    "\n",
    "result=pali_str(input(\"enter a string : \"))\n",
    "print(result)"
   ]
  },
  {
   "cell_type": "code",
   "execution_count": 83,
   "metadata": {},
   "outputs": [
    {
     "name": "stdin",
     "output_type": "stream",
     "text": [
      "enter a string :  sjskdjb\n"
     ]
    },
    {
     "name": "stdout",
     "output_type": "stream",
     "text": [
      "NOOOOOOOOOOOO\n"
     ]
    }
   ],
   "source": [
    "def pali_str(string):\n",
    "    str1=\"\"\n",
    "    for i in range(len(string)-1,-1,-1):\n",
    "        str1=str1+string[i]\n",
    "    if str1==string:\n",
    "        return \"yes\"\n",
    "    else:\n",
    "        return \"NOOOOOOOOOOOO\"\n",
    "result=pali_str(input(\"enter a string : \"))\n",
    "print(result)"
   ]
  },
  {
   "cell_type": "code",
   "execution_count": 88,
   "metadata": {},
   "outputs": [
    {
     "name": "stdin",
     "output_type": "stream",
     "text": [
      "enter a number:  5555\n"
     ]
    },
    {
     "name": "stdout",
     "output_type": "stream",
     "text": [
      "sum of all digit in the number is: 20\n"
     ]
    }
   ],
   "source": [
    "# Write a program to calculate the sum of digits in a number.def \n",
    "def sum_digit(number):\n",
    "    num1=0\n",
    "    number1=str(number)\n",
    "    for i in range(len(number1)):\n",
    "        num1=num1+int(number1[i])\n",
    "        \n",
    "    return f\"sum of all digit in the number is: {num1}\"\n",
    "\n",
    "result=sum_digit(int(input(\"enter a number: \")))\n",
    "print(result)"
   ]
  },
  {
   "cell_type": "code",
   "execution_count": 90,
   "metadata": {},
   "outputs": [
    {
     "name": "stdin",
     "output_type": "stream",
     "text": [
      "enter a number:  44\n"
     ]
    },
    {
     "name": "stdout",
     "output_type": "stream",
     "text": [
      "1936\n"
     ]
    }
   ],
   "source": [
    "# Write a function to calculate the square of a number.\n",
    "def square_num(num):\n",
    "    return num*num\n",
    "num=int(input('enter a number: '))\n",
    "result=square_num(num)\n",
    "print(result)"
   ]
  },
  {
   "cell_type": "code",
   "execution_count": 109,
   "metadata": {},
   "outputs": [
    {
     "name": "stdin",
     "output_type": "stream",
     "text": [
      "Enter a number:  19\n"
     ]
    },
    {
     "name": "stdout",
     "output_type": "stream",
     "text": [
      "Yes, it is a prime number\n"
     ]
    }
   ],
   "source": [
    "# Write a program to check if a given number is prime.\n",
    "\n",
    "import math\n",
    "def is_prime(num):\n",
    "    if num < 2:\n",
    "        return \"No, not a prime number\"\n",
    "    for i in range(2, int(math.sqrt(num)) + 1):\n",
    "        if num % i == 0:\n",
    "            return \"No, not a prime number\"\n",
    "    return \"Yes, it is a prime number\"\n",
    "\n",
    "# Example usage\n",
    "num = int(input('Enter a number: '))\n",
    "result = is_prime(num)\n",
    "print(result)\n"
   ]
  },
  {
   "cell_type": "code",
   "execution_count": 116,
   "metadata": {},
   "outputs": [
    {
     "name": "stdin",
     "output_type": "stream",
     "text": [
      "enter a sentence;  sdf erf eff\n"
     ]
    },
    {
     "name": "stdout",
     "output_type": "stream",
     "text": [
      "longest word is: sdf\n"
     ]
    }
   ],
   "source": [
    "# Write a function to find the length of the longest word in a string.\n",
    "def longest(string):\n",
    "    word=string.split(\" \")\n",
    "    str1=word[0]\n",
    "    for i in word:\n",
    "        if len(i)>len(str1):\n",
    "            str1=i\n",
    "    return f\"longest word is: {str1}\"\n",
    "string=input('enter a sentence; ')\n",
    "result=longest(string)\n",
    "print(result)"
   ]
  },
  {
   "cell_type": "code",
   "execution_count": 112,
   "metadata": {},
   "outputs": [
    {
     "name": "stdout",
     "output_type": "stream",
     "text": [
      "['jsdhb', 'jsdbh', 'ksdhbc', 'kjsdbc']\n"
     ]
    }
   ],
   "source": [
    "string='jsdhb jsdbh ksdhbc kjsdbc'\n",
    "l=string.split(\" \")\n",
    "print(l)"
   ]
  },
  {
   "cell_type": "code",
   "execution_count": 118,
   "metadata": {},
   "outputs": [
    {
     "name": "stdin",
     "output_type": "stream",
     "text": [
      "Enter a string:  EEEEEgdcbbc\n"
     ]
    },
    {
     "name": "stdout",
     "output_type": "stream",
     "text": [
      "cbbcdgEEEEE\n"
     ]
    }
   ],
   "source": [
    "# Write a program to reverse a string.\n",
    "string=input(\"Enter a string: \")\n",
    "str1=\"\"\n",
    "for i in range(len(string)-1,-1,-1):\n",
    "    str1=str1+string[i]\n",
    "print(str1)"
   ]
  },
  {
   "cell_type": "markdown",
   "metadata": {},
   "source": [
    "array :\n",
    "--> data structure used in the python which takes only same type of daata like all intergers , all floats\n",
    "--> memory efficint as the elements of array are stored in contigious memory location\n",
    "--> it is used when the data is of same type\n",
    "--> they are mutable\n",
    "--> Arrays (especially numpy.array) provide a rich set of functions specifically for mathematical and matrix operations (like element-wise addition, multiplication, etc.)\n"
   ]
  },
  {
   "cell_type": "code",
   "execution_count": 124,
   "metadata": {},
   "outputs": [
    {
     "name": "stdin",
     "output_type": "stream",
     "text": [
      "Enter a array:  4,3,2,1\n"
     ]
    },
    {
     "name": "stdout",
     "output_type": "stream",
     "text": [
      "sum is: 10\n"
     ]
    }
   ],
   "source": [
    "# Write a program to find the sum of all elements in an array.\n",
    "def sum_array(array):\n",
    "    summ=0\n",
    "    for i in array:\n",
    "        summ=summ+i\n",
    "    return f'sum is: {summ}'\n",
    "inputt =input(\"Enter a array: \")\n",
    "array = [int(x) for x in inputt.split(\",\")]\n",
    "result = sum_array(array)\n",
    "print(result)"
   ]
  },
  {
   "cell_type": "markdown",
   "metadata": {},
   "source": [
    "string.split(\",\")                 --> convert the string(semtejmce) in to list\n",
    "[int(x) for x in inputt.split(\",\")] -->  convert the string(numbers) in to list"
   ]
  },
  {
   "cell_type": "code",
   "execution_count": 126,
   "metadata": {},
   "outputs": [
    {
     "name": "stdin",
     "output_type": "stream",
     "text": [
      "enter array:  2,1,3,4\n"
     ]
    },
    {
     "name": "stdout",
     "output_type": "stream",
     "text": [
      "max_elemnt is: 4\n"
     ]
    }
   ],
   "source": [
    "# Write a function to find the maximum element in an array.\n",
    "def max_element(array):\n",
    "    maxx=0\n",
    "    for i in array:\n",
    "        if i>maxx:\n",
    "            maxx=i\n",
    "    return f'max_elemnt is: {maxx}'\n",
    "inputt=input(\"enter array: \")\n",
    "array= [int(x) for x in inputt.split(',')]\n",
    "result=max_element(array)\n",
    "print(result)"
   ]
  },
  {
   "cell_type": "code",
   "execution_count": null,
   "metadata": {},
   "outputs": [],
   "source": [
    "def find_max_element(arr):\n",
    "    if not arr:\n",
    "        return None  # Return None if the array is empty\n",
    "    max_element = arr[0]  # Initialize max_element with the first element\n",
    "    for element in arr:\n",
    "        if element > max_element:\n",
    "            max_element = element\n",
    "    return max_element\n",
    "\n",
    "# Example usage\n",
    "array = [3, 1, 4, 1, 5, 9, 2, 6, 5, 3]\n",
    "result = find_max_element(array)\n",
    "print(f\"The maximum element is: {result}\")\n"
   ]
  },
  {
   "cell_type": "code",
   "execution_count": null,
   "metadata": {},
   "outputs": [],
   "source": [
    "def find_max_element(arr):\n",
    "    if not arr:\n",
    "        return None  # Return None if the array is empty\n",
    "    return max(arr)\n",
    "\n",
    "# Example usage\n",
    "array = [3, 1, 4, 1, 5, 9, 2, 6, 5, 3]\n",
    "result = find_max_element(array)\n",
    "print(f\"The maximum element is: {result}\")\n"
   ]
  },
  {
   "cell_type": "code",
   "execution_count": 130,
   "metadata": {},
   "outputs": [
    {
     "name": "stdout",
     "output_type": "stream",
     "text": [
      "Original array: [1, 2, 3, 4, 5, 6, 7]\n",
      "Rotated array: [4, 5, 6, 7, 1, 2, 3]\n"
     ]
    }
   ],
   "source": [
    "# Write a program to rotate an array to the left by a given number of positions\n",
    "def rotation(array,position):\n",
    "    n=len(array)\n",
    "    if n==0:\n",
    "        return False\n",
    "    position=position%n\n",
    "    return array[position:] +array[:position]\n",
    "    \n",
    "array = [1, 2, 3, 4, 5, 6, 7]\n",
    "positions = 3\n",
    "rotated_array = rotation(array, positions)\n",
    "print(f\"Original array: {array}\")\n",
    "print(f\"Rotated array: {rotated_array}\")"
   ]
  },
  {
   "cell_type": "code",
   "execution_count": null,
   "metadata": {},
   "outputs": [],
   "source": []
  },
  {
   "cell_type": "code",
   "execution_count": null,
   "metadata": {},
   "outputs": [],
   "source": []
  },
  {
   "cell_type": "code",
   "execution_count": null,
   "metadata": {},
   "outputs": [],
   "source": []
  }
 ],
 "metadata": {
  "colab": {
   "provenance": []
  },
  "kernelspec": {
   "display_name": "Python 3 (ipykernel)",
   "language": "python",
   "name": "python3"
  },
  "language_info": {
   "codemirror_mode": {
    "name": "ipython",
    "version": 3
   },
   "file_extension": ".py",
   "mimetype": "text/x-python",
   "name": "python",
   "nbconvert_exporter": "python",
   "pygments_lexer": "ipython3",
   "version": "3.12.2"
  }
 },
 "nbformat": 4,
 "nbformat_minor": 4
}
